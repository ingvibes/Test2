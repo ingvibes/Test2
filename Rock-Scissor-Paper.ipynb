{
 "cells": [
  {
   "cell_type": "code",
   "execution_count": null,
   "metadata": {},
   "outputs": [
    {
     "name": "stdout",
     "output_type": "stream",
     "text": [
      "Play rock, sissor, paper game against the computer! Best of 3.\n",
      "For Rock write R, Sissor write S, Paper write P.\n",
      "If you wanna be a quitter, you can allways be lame and write Q.\n",
      "\n"
     ]
    }
   ],
   "source": [
    "import random\n",
    "from random import randint\n",
    "print('Play rock, sissor, paper game against the computer! Best of 3.\\nFor Rock write R, Sissor write S, Paper write P.\\nIf you wanna be a quitter, you can allways be lame and write Q.\\n')\n",
    "#defining variables\n",
    "score=[0,0] #first index computer, second index player \n",
    "name=input('Name:')\n",
    "while score[0]!=2 and score[1]!=2: #not a winner yet\n",
    "    r=random.randint(1,3) #random int between 1 and 3\n",
    "    # 1 = rock, 2= sissor, 3=paper\n",
    "    #input from player: \n",
    "    player=input('\\nR, S or P?\\n') #find method to get user input to python\n",
    "    if player == 'Q':\n",
    "        print('\\nA quitter never wins and a winner never quits. Hope to see ya soon\\n')\n",
    "        break\n",
    "    if player == 'R':\n",
    "        p=1\n",
    "    elif player=='S':\n",
    "        p=2\n",
    "    elif player =='P':\n",
    "        p=3\n",
    "    else: #couldn't interpret what player wrote\n",
    "        player=input('You cannot choose '+ player +\" as weapon, write either R, S or P ;)\\n \")\n",
    "    #check who gets a point!\n",
    "    if r!=player: #not a tie\n",
    "        if r==1:\n",
    "            if player==2:\n",
    "                score[0]=score[0]+1\n",
    "                print('PC chose Rock, PC gets the point! The score is PC-'+name+':', score[0],'-', score[1])\n",
    "            else:\n",
    "                score[1]=score[1]+1\n",
    "                print('PC chose Rock, you get the point! The score is PC-'+name+':', score[0],'-', score[1])\n",
    "        elif r==2: \n",
    "            if player==1:\n",
    "                score[1]=score[1]+1\n",
    "                print('PC chose scissor, you get the point! The score is PC-'+name+':', score[0],'-', score[1])\n",
    "            else: \n",
    "                score[0]=score[0]+1\n",
    "                print('PC chose scissor, you get the point! The score is PC-'+name+':', score[0],'-', score[1])\n",
    "        elif r==3: #could've used only else here;) \n",
    "            if player == 1:\n",
    "                score[0]=score[0]+1\n",
    "                print('PC chose paper, you get the point! The score is PC-'+name+':', score[0],'-', score[1])\n",
    "            else:\n",
    "                score[1]=score[1]+1\n",
    "                print('PC chose paper, you get the point! The score is PC-'+name+':', score[0],'-', score[1])\n",
    "if score[0]==2 : #computer won\n",
    "    print('\\n You loose! Funn playing with ya! Better luck next time '+name+':*')\n",
    "else: \n",
    "    print('\\n Don-do-do-doooo! Congratulations '+name+', you WIN!')"
   ]
  },
  {
   "cell_type": "raw",
   "metadata": {},
   "source": []
  },
  {
   "cell_type": "code",
   "execution_count": null,
   "metadata": {
    "collapsed": true
   },
   "outputs": [],
   "source": []
  },
  {
   "cell_type": "code",
   "execution_count": null,
   "metadata": {
    "collapsed": true
   },
   "outputs": [],
   "source": []
  },
  {
   "cell_type": "code",
   "execution_count": null,
   "metadata": {
    "collapsed": true
   },
   "outputs": [],
   "source": []
  }
 ],
 "metadata": {
  "kernelspec": {
   "display_name": "Python 3",
   "language": "python",
   "name": "python3"
  },
  "language_info": {
   "codemirror_mode": {
    "name": "ipython",
    "version": 3
   },
   "file_extension": ".py",
   "mimetype": "text/x-python",
   "name": "python",
   "nbconvert_exporter": "python",
   "pygments_lexer": "ipython3",
   "version": "3.6.2"
  }
 },
 "nbformat": 4,
 "nbformat_minor": 2
}
